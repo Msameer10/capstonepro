{
 "cells": [
  {
   "cell_type": "markdown",
   "id": "5b6475c8",
   "metadata": {},
   "source": [
    "<h1>ML Task 1: Team A vs Team B; who wins</h1>"
   ]
  },
  {
   "cell_type": "code",
   "execution_count": 1,
   "id": "904d8c63",
   "metadata": {},
   "outputs": [
    {
     "name": "stdout",
     "output_type": "stream",
     "text": [
      "Accuracy: 0.9994044073853484\n"
     ]
    }
   ],
   "source": [
    "import pandas as pd\n",
    "\n",
    "df = pd.read_csv('ml_task1_table.csv')\n",
    "\n",
    "from sklearn.model_selection import train_test_split\n",
    "from sklearn.ensemble import RandomForestClassifier\n",
    "from sklearn.metrics import accuracy_score\n",
    "from sklearn.preprocessing import OneHotEncoder\n",
    "from sklearn.compose import ColumnTransformer\n",
    "from sklearn.pipeline import Pipeline\n",
    "\n",
    
    "\n",
    "# Drop unnecessary columns\n",
    "df = df.drop(columns=['game_id'])\n",
    "\n",
    "# Define features and target variable\n",
    "X = df.drop(columns=['win'])\n",
    "y = df['win']\n",
    "\n",
    "# Split the data into training and testing sets\n",
    "X_train, X_test, y_train, y_test = train_test_split(X, y, test_size=0.2, random_state=42)\n",
    "\n",
    "# Define preprocessing steps\n",
    "preprocessor = ColumnTransformer(\n",
    "    transformers=[\n",
    "        ('encoder', OneHotEncoder(), ['home_team_name', 'away_team_name']),\n",
    "    ],\n",
    "    remainder='passthrough'\n",
    ")\n",
    "\n",
    "# Define the model\n",
    "model = Pipeline(steps=[\n",
    "    ('preprocessor', preprocessor),\n",
    "    ('classifier', RandomForestClassifier(random_state=42)),\n",
    "])\n",
    "\n",
    "# Train the model\n",
    "model.fit(X_train, y_train)\n",
    "\n",
    "# Make predictions on the testing set\n",
    "y_pred = model.predict(X_test)\n",
    "\n",
    "# Evaluate the model\n",
    "accuracy = accuracy_score(y_test, y_pred)\n",
    "print(f'Accuracy: {accuracy}')\n"
   ]
  },
  {
   "cell_type": "code",
   "execution_count": 9,
   "id": "cb2edf61",
   "metadata": {},
   "outputs": [
    {
     "name": "stdout",
     "output_type": "stream",
     "text": [
      "Enter the home team name: Bayern Munich\n",
      "Enter the away team name: Ajax Amsterdam\n",
      "Prediction for Bayern Munich vs Ajax Amsterdam: It's a draw\n"
     ]
    }
   ],
   "source": [
    "# Prompt user to input team names\n",
    "input_teams = [input(\"Enter the home team name: \"), input(\"Enter the away team name: \")]\n",
    "\n",
    "# Function to fetch historical goal information\n",
    "def get_goal_information(team1, team2, historical_data):\n",
    "    match = historical_data[((historical_data['home_team_name'] == team1) & (historical_data['away_team_name'] == team2)) |\n",
    "                             ((historical_data['home_team_name'] == team2) & (historical_data['away_team_name'] == team1))]\n",
    "    \n",
    "    if not match.empty:\n",
    "        own_goals = match['own_goals'].values[0]\n",
    "        opponent_goals = match['opponent_goals'].values[0]\n",
    "        return own_goals, opponent_goals\n",
    "    else:\n",
    "        # Handle the case where there's no historical data for the given pair of teams\n",
    "        return 0, 0\n",
    "\n",
    "# Get historical goal information\n",
    "own_goals, opponent_goals = get_goal_information(input_teams[0], input_teams[1], df)\n",
    "\n",
    "# Create a DataFrame with the input data\n",
    "input_data = pd.DataFrame({\n",
    "    'home_team_name': [input_teams[0]],\n",
    "    'away_team_name': [input_teams[1]],\n",
    "    'own_goals': [own_goals],\n",
    "    'opponent_goals': [opponent_goals],\n",
    "    'hosting': [0],  # You need to determine whether it's a home or away game\n",
    "})\n",
    "\n",
    "# Use the preprocessor and model for prediction\n",
    "input_features = model.named_steps['preprocessor'].transform(input_data)\n",
    "prediction = model.named_steps['classifier'].predict(input_features)\n",
    "\n",
    "# Convert the numeric prediction to a human-readable result\n",
    "result = f'{input_teams[0]} wins' if prediction[0] == 1 else f'{input_teams[1]} wins' if prediction[0] == 2 else 'It\\'s a draw'\n",
    "\n",
    "print(f'Prediction for {input_teams[0]} vs {input_teams[1]}: {result}')"
   ]
  },
  {
   "cell_type": "code",
   "execution_count": null,
   "id": "f3986c8c",
   "metadata": {},
   "outputs": [],
   "source": []
  },
  {
   "cell_type": "markdown",
   "id": "39247436",
   "metadata": {},
   "source": [
    "<h1>ML Task 2: Top scorer prediction</h1>"
   ]
  },
  {
   "cell_type": "code",
   "execution_count": 4,
   "id": "642400cd",
   "metadata": {},
   "outputs": [
    {
     "name": "stdout",
     "output_type": "stream",
     "text": [
      "Mean Squared Error: 4.127501155536134e-29\n"
     ]
    },
    {
     "name": "stderr",
     "output_type": "stream",
     "text": [
      "C:\\Users\\M_Sam\\anaconda3\\Lib\\site-packages\\sklearn\\impute\\_base.py:555: UserWarning: Skipping features without any observed values: ['average_goals']. At least one non-missing value is needed for imputation with strategy='mean'.\n",
      "  warnings.warn(\n",
      "C:\\Users\\M_Sam\\anaconda3\\Lib\\site-packages\\sklearn\\impute\\_base.py:555: UserWarning: Skipping features without any observed values: ['average_goals']. At least one non-missing value is needed for imputation with strategy='mean'.\n",
      "  warnings.warn(\n"
     ]
    }
   ],
   "source": [
    "import pandas as pd\n",
    "from sklearn.model_selection import train_test_split\n",
    "from sklearn.linear_model import LinearRegression\n",
    "from sklearn.impute import SimpleImputer\n",
    "from sklearn.metrics import mean_squared_error\n",
    "\n",
    "df = pd.read_csv('ml_task2_table.csv')\n",
    "\n",
    
    "# Preprocessing\n",
    "df['average_goals'] = df.loc[:, '2012':'2023'].mean(axis=1)\n",
    "df = df[df['Team'] != 'retired']\n",
    "\n",
    "# Handle missing values\n",
    "features = ['average_goals', 'Age'] + [str(year) for year in range(2013, 2024)]\n",
    "X = df[features]\n",
    "y = df['2023']  # Target variable, goals scored in 2023\n",
    "\n",
    "# Impute missing values\n",
    "imputer = SimpleImputer(strategy='mean')\n",
    "X_imputed = imputer.fit_transform(X)\n",
    "\n",
    "# Model Training\n",
    "X_train, X_test, y_train, y_test = train_test_split(X_imputed, y, test_size=0.2, random_state=42)\n",
    "model = LinearRegression()\n",
    "model.fit(X_train, y_train)\n",
    "\n",
    "# Model Evaluation (Optional)\n",
    "y_pred = model.predict(X_test)\n",
    "mse = mean_squared_error(y_test, y_pred)\n",
    "print(f'Mean Squared Error: {mse}')\n",
    "\n",
    "# Impute missing values in the prediction dataset\n",
    "X_pred = imputer.transform(df[features])\n",
    "\n"
   ]
  },
  {
   "cell_type": "code",
   "execution_count": 5,
   "id": "fb0b8a2f",
   "metadata": {},
   "outputs": [
    {
     "name": "stdout",
     "output_type": "stream",
     "text": [
      "Top 3 Scorers in 2024:\n",
      " \n",
      "Erling Haaland with 36 goals.\n",
      "Harry Kane with 30 goals.\n",
      "Kylian Mbappe with 29 goals.\n"
     ]
    }
   ],
   "source": [
    "# Prediction for 2024\n",
    "df['predicted_goals_2024'] = model.predict(X_pred)\n",
    "\n",
    "# Identify Top 3 Scorers in 2024\n",
    "top_scorers_2024 = df.nlargest(3, 'predicted_goals_2024')\n",
    "\n",
    "print(\"Top 3 Scorers in 2024:\")\n",
    "print(\" \")\n",
    "for index, row in top_scorers_2024.iterrows():\n",
    "    print(f\"{row['Name']} with {int(row['predicted_goals_2024'])} goals.\")\n"
   ]
  },
  {
   "cell_type": "code",
   "execution_count": null,
   "id": "6fa3736a",
   "metadata": {},
   "outputs": [],
   "source": []
  }
 ],
 "metadata": {
  "kernelspec": {
   "display_name": "Python 3 (ipykernel)",
   "language": "python",
   "name": "python3"
  },
  "language_info": {
   "codemirror_mode": {
    "name": "ipython",
    "version": 3
   },
   "file_extension": ".py",
   "mimetype": "text/x-python",
   "name": "python",
   "nbconvert_exporter": "python",
   "pygments_lexer": "ipython3",
   "version": "3.11.5"
  }
 },
 "nbformat": 4,
 "nbformat_minor": 5
}
